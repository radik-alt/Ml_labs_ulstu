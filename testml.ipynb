{
 "cells": [
  {
   "cell_type": "code",
   "execution_count": 5,
   "id": "initial_id",
   "metadata": {
    "collapsed": true,
    "ExecuteTime": {
     "end_time": "2023-10-11T15:10:12.516090100Z",
     "start_time": "2023-10-11T15:10:12.347150700Z"
    }
   },
   "outputs": [],
   "source": [
    "import numpy as np\n",
    "from matplotlib import pyplot as plt\n",
    "from pandas import Series\n",
    "import pandas as pd\n",
    "from sklearn.linear_model import LinearRegression, Ridge\n",
    "from sklearn.metrics import mean_squared_error\n",
    "from sklearn.model_selection import train_test_split\n",
    "from sklearn.preprocessing import PolynomialFeatures\n",
    "from sklearn.datasets import make_regression\n",
    "\n"
   ]
  },
  {
   "cell_type": "code",
   "execution_count": 4,
   "outputs": [
    {
     "name": "stdout",
     "output_type": "stream",
     "text": [
      "10\n"
     ]
    }
   ],
   "source": [
    "print(10)"
   ],
   "metadata": {
    "collapsed": false,
    "ExecuteTime": {
     "end_time": "2023-10-11T15:08:12.708922700Z",
     "start_time": "2023-10-11T15:08:12.693806200Z"
    }
   },
   "id": "25e7bd4a7e36d85a"
  },
  {
   "cell_type": "code",
   "execution_count": 8,
   "outputs": [
    {
     "name": "stdout",
     "output_type": "stream",
     "text": [
      "[[-0.18531246]\n",
      " [-1.14968098]\n",
      " [ 0.09944756]\n",
      " [-1.33169607]\n",
      " [ 0.14890629]\n",
      " [ 1.45083528]\n",
      " [-0.40663145]\n",
      " [-0.51157039]\n",
      " [ 0.79705476]\n",
      " [-0.84264335]\n",
      " [-2.64967472]\n",
      " [-0.94075961]\n",
      " [ 0.11041502]\n",
      " [ 0.70216194]\n",
      " [-0.09854945]\n",
      " [ 1.58467193]\n",
      " [-1.49807802]\n",
      " [-1.96000085]\n",
      " [ 0.55193455]\n",
      " [ 0.66365928]\n",
      " [ 0.70268174]\n",
      " [ 0.74141295]\n",
      " [-1.47338485]\n",
      " [ 0.47561891]\n",
      " [ 1.13769587]\n",
      " [ 2.08547253]\n",
      " [ 1.47490621]\n",
      " [ 1.63976465]\n",
      " [ 1.16276977]\n",
      " [-0.53298835]\n",
      " [ 0.43907721]\n",
      " [ 1.9637736 ]\n",
      " [ 0.91226412]\n",
      " [-0.50621822]\n",
      " [-0.19175787]\n",
      " [-0.59391905]\n",
      " [ 0.40496994]\n",
      " [ 0.3721625 ]\n",
      " [ 1.23571015]\n",
      " [ 1.00232023]\n",
      " [-1.10592543]\n",
      " [ 3.06412767]\n",
      " [ 1.35726172]\n",
      " [-0.10541362]\n",
      " [-0.89993983]\n",
      " [ 0.76261825]\n",
      " [-0.2866206 ]\n",
      " [-1.14103368]\n",
      " [ 2.23927625]\n",
      " [ 0.64982241]\n",
      " [-1.15600799]\n",
      " [ 0.4918214 ]\n",
      " [ 0.02753372]\n",
      " [-0.1109209 ]\n",
      " [ 0.39264113]\n",
      " [-0.8798715 ]\n",
      " [ 0.39428512]\n",
      " [ 2.32171703]\n",
      " [ 0.41790929]\n",
      " [-1.38335771]\n",
      " [ 0.91973601]\n",
      " [ 0.32138279]\n",
      " [-0.49824627]\n",
      " [ 0.60747391]\n",
      " [-0.6362103 ]\n",
      " [ 0.34064773]\n",
      " [-0.32085226]\n",
      " [-0.10475335]\n",
      " [-0.25848768]\n",
      " [ 0.64589451]\n",
      " [ 0.5178866 ]\n",
      " [-0.43202693]\n",
      " [-0.59289164]\n",
      " [-1.58866411]\n",
      " [-0.19026779]\n",
      " [ 0.41826944]\n",
      " [ 1.34334924]\n",
      " [-0.59894263]\n",
      " [-0.95228464]\n",
      " [ 0.87445619]\n",
      " [ 0.13103382]\n",
      " [-0.50849391]\n",
      " [-1.2765521 ]\n",
      " [-1.92517305]\n",
      " [ 0.75969366]\n",
      " [ 1.21323306]\n",
      " [ 0.50590699]\n",
      " [ 1.41733091]\n",
      " [ 1.22435915]\n",
      " [-0.16655001]\n",
      " [ 1.14530334]\n",
      " [-0.6885627 ]\n",
      " [-1.21560071]\n",
      " [ 0.56150308]\n",
      " [ 1.23795906]\n",
      " [ 0.06100683]\n",
      " [ 0.65277098]\n",
      " [ 0.54185411]\n",
      " [ 0.69616657]\n",
      " [ 1.3983842 ]]\n"
     ]
    }
   ],
   "source": [
    "def generate():\n",
    "    X, y = make_regression(n_samples=100, n_features=1, noise=0.1)\n",
    "    print(X)\n",
    "\n",
    "generate()"
   ],
   "metadata": {
    "collapsed": false,
    "ExecuteTime": {
     "end_time": "2023-10-11T15:10:55.383951600Z",
     "start_time": "2023-10-11T15:10:55.370417900Z"
    }
   },
   "id": "116a103000559f1a"
  },
  {
   "cell_type": "code",
   "execution_count": 9,
   "outputs": [
    {
     "ename": "ValueError",
     "evalue": "setting an array element with a sequence. The requested array has an inhomogeneous shape after 1 dimensions. The detected shape was (3,) + inhomogeneous part.",
     "output_type": "error",
     "traceback": [
      "\u001B[1;31m---------------------------------------------------------------------------\u001B[0m",
      "\u001B[1;31mValueError\u001B[0m                                Traceback (most recent call last)",
      "Cell \u001B[1;32mIn[9], line 4\u001B[0m\n\u001B[0;32m      1\u001B[0m \u001B[38;5;28;01mimport\u001B[39;00m \u001B[38;5;21;01mnumpy\u001B[39;00m \u001B[38;5;28;01mas\u001B[39;00m \u001B[38;5;21;01mnp\u001B[39;00m\n\u001B[0;32m      2\u001B[0m \u001B[38;5;28;01mfrom\u001B[39;00m \u001B[38;5;21;01msklearn\u001B[39;00m\u001B[38;5;21;01m.\u001B[39;00m\u001B[38;5;21;01mlinear_model\u001B[39;00m \u001B[38;5;28;01mimport\u001B[39;00m LinearRegression\n\u001B[1;32m----> 4\u001B[0m x \u001B[38;5;241m=\u001B[39m \u001B[43mnp\u001B[49m\u001B[38;5;241;43m.\u001B[39;49m\u001B[43marray\u001B[49m\u001B[43m(\u001B[49m\u001B[43m[\u001B[49m\u001B[43m[\u001B[49m\u001B[38;5;241;43m5\u001B[39;49m\u001B[43m,\u001B[49m\u001B[43m \u001B[49m\u001B[38;5;241;43m15\u001B[39;49m\u001B[43m,\u001B[49m\u001B[43m \u001B[49m\u001B[38;5;241;43m25\u001B[39;49m\u001B[43m,\u001B[49m\u001B[43m \u001B[49m\u001B[38;5;241;43m35\u001B[39;49m\u001B[43m,\u001B[49m\u001B[43m \u001B[49m\u001B[38;5;241;43m45\u001B[39;49m\u001B[43m,\u001B[49m\u001B[43m \u001B[49m\u001B[38;5;241;43m55\u001B[39;49m\u001B[43m]\u001B[49m\u001B[43m,\u001B[49m\u001B[43m \u001B[49m\u001B[43m[\u001B[49m\u001B[38;5;241;43m5\u001B[39;49m\u001B[43m,\u001B[49m\u001B[43m \u001B[49m\u001B[38;5;241;43m15\u001B[39;49m\u001B[43m,\u001B[49m\u001B[43m \u001B[49m\u001B[38;5;241;43m25\u001B[39;49m\u001B[43m,\u001B[49m\u001B[43m \u001B[49m\u001B[38;5;241;43m35\u001B[39;49m\u001B[43m,\u001B[49m\u001B[43m \u001B[49m\u001B[38;5;241;43m45\u001B[39;49m\u001B[43m,\u001B[49m\u001B[43m \u001B[49m\u001B[38;5;241;43m55\u001B[39;49m\u001B[43m]\u001B[49m\u001B[43m,\u001B[49m\u001B[43m \u001B[49m\u001B[43m[\u001B[49m\u001B[38;5;241;43m5\u001B[39;49m\u001B[43m,\u001B[49m\u001B[43m \u001B[49m\u001B[38;5;241;43m15\u001B[39;49m\u001B[43m,\u001B[49m\u001B[43m \u001B[49m\u001B[38;5;241;43m25\u001B[39;49m\u001B[43m,\u001B[49m\u001B[43m \u001B[49m\u001B[38;5;241;43m35\u001B[39;49m\u001B[43m,\u001B[49m\u001B[43m \u001B[49m\u001B[38;5;241;43m45\u001B[39;49m\u001B[43m,\u001B[49m\u001B[43m \u001B[49m\u001B[38;5;241;43m55\u001B[39;49m\u001B[43m,\u001B[49m\u001B[43m \u001B[49m\u001B[38;5;241;43m1\u001B[39;49m\u001B[43m]\u001B[49m\u001B[43m]\u001B[49m\u001B[43m)\u001B[49m\u001B[38;5;241m.\u001B[39mreshape((\u001B[38;5;241m-\u001B[39m\u001B[38;5;241m1\u001B[39m, \u001B[38;5;241m1\u001B[39m))\n\u001B[0;32m      5\u001B[0m y \u001B[38;5;241m=\u001B[39m np\u001B[38;5;241m.\u001B[39marray([[\u001B[38;5;241m5\u001B[39m, \u001B[38;5;241m15\u001B[39m, \u001B[38;5;241m25\u001B[39m, \u001B[38;5;241m35\u001B[39m, \u001B[38;5;241m45\u001B[39m, \u001B[38;5;241m55\u001B[39m], [\u001B[38;5;241m5\u001B[39m, \u001B[38;5;241m15\u001B[39m, \u001B[38;5;241m25\u001B[39m, \u001B[38;5;241m35\u001B[39m, \u001B[38;5;241m45\u001B[39m, \u001B[38;5;241m55\u001B[39m], [\u001B[38;5;241m5\u001B[39m, \u001B[38;5;241m15\u001B[39m, \u001B[38;5;241m25\u001B[39m, \u001B[38;5;241m35\u001B[39m, \u001B[38;5;241m45\u001B[39m, \u001B[38;5;241m55\u001B[39m]])\u001B[38;5;241m.\u001B[39mreshape((\u001B[38;5;241m-\u001B[39m\u001B[38;5;241m1\u001B[39m, \u001B[38;5;241m1\u001B[39m))\n\u001B[0;32m      7\u001B[0m \u001B[38;5;28mprint\u001B[39m(x\u001B[38;5;241m.\u001B[39mshape)\n",
      "\u001B[1;31mValueError\u001B[0m: setting an array element with a sequence. The requested array has an inhomogeneous shape after 1 dimensions. The detected shape was (3,) + inhomogeneous part."
     ]
    }
   ],
   "source": [
    "import numpy as np\n",
    "from sklearn.linear_model import LinearRegression\n",
    "\n",
    "x = np.array([[5, 15, 25, 35, 45, 55], [5, 15, 25, 35, 45, 55], [5, 15, 25, 35, 45, 55]]).reshape((-1, 1))\n",
    "y = np.array([[5, 15, 25, 35, 45, 55], [5, 15, 25, 35, 45, 55], [5, 15, 25, 35, 45, 55]]).reshape((-1, 1))\n",
    "\n",
    "print(x.shape)\n",
    "print(y.shape)\n",
    "\n",
    "model = LinearRegression()\n",
    "model.fit(x, y)\n",
    "r_sq = model.score(x, y)\n",
    "print('coefficient of determination:', r_sq)"
   ],
   "metadata": {
    "collapsed": false,
    "ExecuteTime": {
     "end_time": "2023-10-15T14:56:38.841200300Z",
     "start_time": "2023-10-15T14:56:38.811072800Z"
    }
   },
   "id": "b81b09161ebe31ec"
  },
  {
   "cell_type": "code",
   "execution_count": null,
   "outputs": [],
   "source": [],
   "metadata": {
    "collapsed": false
   },
   "id": "350e196944bab201"
  }
 ],
 "metadata": {
  "kernelspec": {
   "display_name": "Python 3",
   "language": "python",
   "name": "python3"
  },
  "language_info": {
   "codemirror_mode": {
    "name": "ipython",
    "version": 2
   },
   "file_extension": ".py",
   "mimetype": "text/x-python",
   "name": "python",
   "nbconvert_exporter": "python",
   "pygments_lexer": "ipython2",
   "version": "2.7.6"
  }
 },
 "nbformat": 4,
 "nbformat_minor": 5
}
